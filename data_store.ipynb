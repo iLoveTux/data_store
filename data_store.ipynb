{
 "cells": [
  {
   "cell_type": "code",
   "execution_count": 21,
   "metadata": {
    "collapsed": false
   },
   "outputs": [],
   "source": [
    "from data.store import Store\n",
    "\n",
    "store = Store(\n",
    "    [{\"name\": \"caitlin\", \"age\": 32, \"sex\": \"male\"},\n",
    "    {\"name\": \"brittany\", \"age\": 32, \"sex\": \"male\"},\n",
    "    {\"name\": \"joe\", \"age\": 32, \"sex\": \"male\"},\n",
    "    {\"name\": \"david\", \"age\": 32, \"sex\": \"male\"},\n",
    "    {\"name\": \"clifford\", \"age\": 32, \"sex\": \"male\"},\n",
    "    {\"name\": \"jane\", \"age\": 22, \"sex\": \"female\"},\n",
    "    {\"name\": \"max\", \"age\": 30, \"sex\": \"male\"},\n",
    "    {\"name\": \"dustin\", \"age\": 23, \"sex\": \"male\"},\n",
    "    {\"name\": \"bianca\", \"age\": 27, \"sex\": \"female\"},\n",
    "    {\"name\": \"jeff\", \"age\": 30, \"sex\": \"female\"}])"
   ]
  },
  {
   "cell_type": "code",
   "execution_count": 29,
   "metadata": {
    "collapsed": false
   },
   "outputs": [
    {
     "data": {
      "text/plain": [
       "[{'_id': 'ec6c4242ae2740569f2258f0695635f0',\n",
       "  'age': 22,\n",
       "  'name': 'jane',\n",
       "  'sex': 'female'},\n",
       " {'_id': '918927f8c0c6499f8eed3254dfe34b99',\n",
       "  'age': 23,\n",
       "  'name': 'dustin',\n",
       "  'sex': 'male'},\n",
       " {'_id': 'd7ffb63bd34448d3ba185c1b5af84742',\n",
       "  'age': 27,\n",
       "  'name': 'bianca',\n",
       "  'sex': 'female'},\n",
       " {'_id': '07c12f73f57d437e937b74de253da930',\n",
       "  'age': 30,\n",
       "  'name': 'max',\n",
       "  'sex': 'male'},\n",
       " {'_id': 'd85ef7e9e5404f45a5a5ab237f4cbdae',\n",
       "  'age': 30,\n",
       "  'name': 'jeff',\n",
       "  'sex': 'female'}]"
      ]
     },
     "execution_count": 29,
     "metadata": {},
     "output_type": "execute_result"
    }
   ],
   "source": [
    "store.filter({\n",
    "    \"age\": lambda x: x>30}).sort(\"age\")"
   ]
  },
  {
   "cell_type": "code",
   "execution_count": null,
   "metadata": {
    "collapsed": true
   },
   "outputs": [],
   "source": []
  }
 ],
 "metadata": {
  "kernelspec": {
   "display_name": "Python 2",
   "language": "python",
   "name": "python2"
  },
  "language_info": {
   "codemirror_mode": {
    "name": "ipython",
    "version": 2
   },
   "file_extension": ".py",
   "mimetype": "text/x-python",
   "name": "python",
   "nbconvert_exporter": "python",
   "pygments_lexer": "ipython2",
   "version": "2.7.9"
  }
 },
 "nbformat": 4,
 "nbformat_minor": 0
}
